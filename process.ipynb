{
 "cells": [
  {
   "cell_type": "code",
   "execution_count": null,
   "metadata": {},
   "outputs": [],
   "source": [
    "import pandas as pd\n",
    "import csv\n",
    "import os\n",
    "import numpy as np\n",
    "import matplotlib.pyplot as plt\n",
    "import scipy as sp\n",
    "from scipy.interpolate import interp1d\n",
    "import matplotlib.pyplot as plt\n",
    "from scipy import signal\n",
    "from sklearn.preprocessing import MinMaxScaler"
   ]
  },
  {
   "cell_type": "markdown",
   "metadata": {},
   "source": [
    "Load and preprocess the datasets"
   ]
  },
  {
   "cell_type": "code",
   "execution_count": null,
   "metadata": {},
   "outputs": [],
   "source": [
    "def first_notnull_year(df):\n",
    "    first_column = df.columns[df.notnull().any()].tolist()[0]\n",
    "    print(first_column)\n",
    "\n",
    "def least_data(df):\n",
    "    df = df.dropna(thresh=1).dropna(axis=1, thresh=1)\n",
    "    \n",
    "    return df"
   ]
  },
  {
   "cell_type": "code",
   "execution_count": null,
   "metadata": {},
   "outputs": [],
   "source": [
    "#note that gdp is divided by 1e6 to make it easier to read\n",
    "gdpdf = pd.read_csv('Raw_Data\\\\Economical\\\\gpd_data_incurrentUSD.csv')\n",
    "gdpdf = gdpdf.drop(['Country Name','Indicator Name','Indicator Code'], axis=1)\n",
    "gdpdf = gdpdf.set_index('Country Code')\n",
    "country_codes = pd.read_csv('Raw_data\\\\country_codes.csv')\n",
    "gdpdf = gdpdf[gdpdf.index.isin(country_codes['alpha-3'])]\n",
    "gdpdf = gdpdf.map(lambda x: x / 1e6 if x is not None else x)\n",
    "gdpdf = gdpdf.round(2)\n",
    "cols_to_drop = [col for col in gdpdf.columns if int(col) < 1980]\n",
    "gdpdf = gdpdf.drop(columns=cols_to_drop)\n",
    "gdpdf.columns = gdpdf.columns.astype(int)\n",
    "\n",
    "print(gdpdf.columns.dtype)\n",
    "print(gdpdf)"
   ]
  },
  {
   "cell_type": "code",
   "execution_count": null,
   "metadata": {},
   "outputs": [],
   "source": [
    "co2ktdf = pd.read_csv('Raw_Data\\\\Environmental\\\\CO2_Emissions_ByCountry_KT.csv')\n",
    "co2ktdf = co2ktdf.drop(['Series Name','Series Code','Country Name'], axis=1)\n",
    "col_names = co2ktdf.columns.tolist()\n",
    "col_names[1:] = [name[:4] for name in col_names[1:]]\n",
    "co2ktdf.columns = col_names\n",
    "co2ktdf = co2ktdf.set_index('Country Code')\n",
    "co2ktdf = co2ktdf[co2ktdf.index.isin(country_codes['alpha-3'])]\n",
    "co2ktdf = co2ktdf.apply(pd.to_numeric, errors='coerce')\n",
    "cols_to_drop = [col for col in co2ktdf.columns if int(col) < 1980]\n",
    "co2ktdf = co2ktdf.drop(columns=cols_to_drop)\n",
    "co2ktdf.columns = co2ktdf.columns.astype(int)\n",
    "\n",
    "print(co2ktdf.columns.dtype)\n",
    "print(co2ktdf)"
   ]
  },
  {
   "cell_type": "code",
   "execution_count": null,
   "metadata": {},
   "outputs": [],
   "source": [
    "lawindex = pd.read_csv('Raw_Data\\\\Legal\\\\Law_Index.csv')\n",
    "lawindex = lawindex.drop(['Country Name','Indicator Name','Indicator Code'], axis=1)\n",
    "lawindex = lawindex.set_index('Country Code')\n",
    "lawindex = lawindex[lawindex.index.isin(country_codes['alpha-3'])]\n",
    "cols_to_drop = [col for col in lawindex.columns if int(col) < 1980]\n",
    "lawindex = lawindex.drop(columns=cols_to_drop)\n",
    "lawindex.columns = lawindex.columns.astype(int)\n",
    "\n",
    "print(lawindex.columns.dtype)\n",
    "print(lawindex)"
   ]
  },
  {
   "cell_type": "code",
   "execution_count": null,
   "metadata": {},
   "outputs": [],
   "source": [
    "politicalstab = pd.read_csv('Raw_Data\\\\Political\\\\political_stability_index.csv')\n",
    "politicalstab = politicalstab.drop(['Series Name','Series Code','Country Name'], axis=1)\n",
    "col_names = politicalstab.columns.tolist()\n",
    "col_names[1:] = [name[:4] for name in col_names[1:]]\n",
    "politicalstab.columns = col_names\n",
    "politicalstab = politicalstab.set_index('Country Code')\n",
    "politicalstab = politicalstab[politicalstab.index.isin(country_codes['alpha-3'])]\n",
    "politicalstab = politicalstab.apply(pd.to_numeric, errors='coerce')\n",
    "cols_to_drop = [col for col in politicalstab.columns if int(col) < 1980]\n",
    "politicalstab = politicalstab.drop(columns=cols_to_drop)\n",
    "politicalstab.columns = politicalstab.columns.astype(int)\n",
    "\n",
    "print(politicalstab.columns.dtype)\n",
    "print(politicalstab)"
   ]
  },
  {
   "cell_type": "code",
   "execution_count": null,
   "metadata": {},
   "outputs": [],
   "source": [
    "ginindex = pd.read_csv('Raw_Data\\\\Legal\\\\Law_Index.csv')\n",
    "ginindex = ginindex.drop(['Country Name','Indicator Name','Indicator Code'], axis=1)\n",
    "ginindex = ginindex.set_index('Country Code')\n",
    "ginindex = ginindex[ginindex.index.isin(country_codes['alpha-3'])]\n",
    "cols_to_drop = [col for col in ginindex.columns if int(col) < 1980]\n",
    "ginindex = ginindex.drop(columns=cols_to_drop)\n",
    "ginindex.columns = ginindex.columns.astype(int)\n",
    "\n",
    "print(ginindex.columns.dtype)\n",
    "print(ginindex)"
   ]
  },
  {
   "cell_type": "markdown",
   "metadata": {},
   "source": [
    "EXAMPLE TRANSFORM APPLICATION"
   ]
  },
  {
   "cell_type": "markdown",
   "metadata": {},
   "source": [
    "interpolation methods can be inserted between and changed in the cell below and also min max scaling can be applied\n",
    "Extract the method!!!"
   ]
  },
  {
   "cell_type": "code",
   "execution_count": null,
   "metadata": {},
   "outputs": [],
   "source": [
    "# Shorten all series aligned with the shortest one (INPUT AS A SERIE LIST!!!)\n",
    "\n",
    "def shorten_series(series_list):\n",
    "    first_valid_indices = [s.first_valid_index() for s in series_list]\n",
    "    max_index = max(first_valid_indices)\n",
    "    shortened_series_list = [s.loc[max_index:] for s in series_list]\n",
    "    return shortened_series_list\n",
    "\n",
    "\n",
    "\n",
    "# Define some transformation functions : (WORKS FOR EACH SERIE)\n",
    "def transform_full(df_serie):\n",
    "    scaler = MinMaxScaler()\n",
    "    \n",
    "    #interpolate the data\n",
    "    df_serie = df_serie.interpolate()\n",
    "\n",
    "    # Drop the NaN values and apply them back after detrending\n",
    "    # Assuming that `df_serie` is your Series\n",
    "    # Store the original indices of the NaN values\n",
    "    nan_indices = df_serie.index[df_serie.apply(np.isnan)]\n",
    "\n",
    "    # Drop the NaN values\n",
    "    df_serie_dropped = df_serie.dropna()\n",
    "\n",
    "    # Detrend the Series without NaN values\n",
    "    df_serie_detrended = pd.Series(signal.detrend(df_serie_dropped))\n",
    "    df_serie_detrended.index = df_serie_dropped.index\n",
    "\n",
    "    # Reinsert the NaN values to their original places\n",
    "    for idx in nan_indices:\n",
    "        df_serie_detrended.loc[idx] = np.nan\n",
    "\n",
    "    # Sort the Series by index to restore the original order\n",
    "    df_serie_detrended = df_serie_detrended.sort_index()\n",
    "\n",
    "    # Scale the data\n",
    "    df_serie = pd.Series(scaler.fit_transform(df_serie.values.reshape(-1, 1)).flatten(), index=df_serie.index)\n",
    "    return df_serie\n",
    "\n",
    "# WORKS ONLY FOR SERIE\n",
    "def onlyscale(df_serie):\n",
    "    scaler = MinMaxScaler()\n",
    "    # Scale the data\n",
    "    scaled_serie = pd.Series(scaler.fit_transform(df_serie.values.reshape(-1, 1)).flatten(), index=df_serie.index)\n",
    "    scaled_serie.name = df_serie.name  # Preserve the name\n",
    "    return scaled_serie"
   ]
  },
  {
   "cell_type": "code",
   "execution_count": null,
   "metadata": {},
   "outputs": [],
   "source": [
    "def get_country_serie_list(country_code):\n",
    "    countrydf1 = gdpdf.loc[country_code].rename('Gdp'+' '+country_code)\n",
    "    countrydf2 = co2ktdf.loc[country_code].rename('CO2'+' '+country_code)\n",
    "    countrydf3 = lawindex.loc[country_code].rename('Lawindex'+' '+country_code)\n",
    "    countrydf4 = politicalstab.loc[country_code].rename('Politicalstab'+' '+country_code)\n",
    "    countrydf5 = ginindex.loc[country_code].rename('Ginindex'+' '+country_code)\n",
    "    return [countrydf1, countrydf2, countrydf3, countrydf4, countrydf5]\n"
   ]
  },
  {
   "cell_type": "code",
   "execution_count": null,
   "metadata": {},
   "outputs": [],
   "source": [
    "# Select the data for the country\n",
    "code = 'TUR'\n",
    "countrydf1 = gdpdf.loc[code]\n",
    "countrydf2 = co2ktdf.loc['USA']\n",
    "countrydf3 = lawindex.loc['USA']\n",
    "countrydf4 = politicalstab.loc['USA']\n",
    "countrydf5 = ginindex.loc['USA']\n",
    "\n",
    "usa_list = [countrydf1, countrydf2, countrydf3, countrydf4, countrydf5]\n",
    "\n",
    "merged_preprocess_df = pd.concat([countrydf1, countrydf2, countrydf3, countrydf4, countrydf5], axis=1)\n",
    "new_column_names = ['Gdp'+' '+'USA', 'CO2'+' '+'USA', 'Lawindex'+' '+'USA', 'Politicalstab'+' '+'USA', 'Ginindex'+' '+'USA']\n",
    "merged_preprocess_df.columns = new_column_names\n",
    "merged_preprocess_df.to_csv('merged_preprocess_df.csv')"
   ]
  },
  {
   "cell_type": "code",
   "execution_count": null,
   "metadata": {},
   "outputs": [],
   "source": [
    "#Fetch turkey data as series list for each variable\n",
    "alpha3code = 'TUR'\n",
    "turkey_preprocess_serie_list = get_country_serie_list(alpha3code)\n",
    "turkey_preprocess_df = pd.concat(turkey_preprocess_serie_list, axis=1)\n",
    "display(turkey_preprocess_df)\n",
    "turkey_preprocess_df.plot(subplots=True, figsize=(10, 30), style='o-')"
   ]
  },
  {
   "cell_type": "code",
   "execution_count": null,
   "metadata": {},
   "outputs": [],
   "source": [
    "#Shorten the series to the same length starting from the highest indiced non-null value\n",
    "shortened_turkey_preprocess_serie_list = shorten_series(turkey_preprocess_serie_list)\n",
    "shortened_turkey_preprocess_df = pd.concat(shortened_turkey_preprocess_serie_list, axis=1)\n",
    "display(shortened_turkey_preprocess_df)\n",
    "shortened_turkey_preprocess_df.plot(subplots=True, figsize=(7, 30),style='o-')"
   ]
  },
  {
   "cell_type": "code",
   "execution_count": null,
   "metadata": {},
   "outputs": [],
   "source": [
    "#please change interpolation method if needed!!\n",
    "interpolated_turkey_preprocess_serie_list = [serie.interpolate(method='spline',order = 2) for serie in shortened_turkey_preprocess_serie_list]\n",
    "turkey_interpolated_preprocess_df = pd.concat(interpolated_turkey_preprocess_serie_list, axis=1)\n",
    "display(turkey_interpolated_preprocess_df)\n",
    "turkey_interpolated_preprocess_df.plot(subplots=True, figsize=(7, 20),style='o-')"
   ]
  },
  {
   "cell_type": "code",
   "execution_count": null,
   "metadata": {},
   "outputs": [],
   "source": [
    "scaled_turkey_preprocess_serie_list = [onlyscale(serie) for serie in interpolated_turkey_preprocess_serie_list]\n",
    "scaled_turkey_preprocess_df = pd.concat(scaled_turkey_preprocess_serie_list, axis=1)\n",
    "display(scaled_turkey_preprocess_df)\n",
    "scaled_turkey_preprocess_df.plot(figsize=(15, 5),style='o-')"
   ]
  },
  {
   "cell_type": "code",
   "execution_count": null,
   "metadata": {},
   "outputs": [],
   "source": [
    "turkey_detrended_series_list = interpolated_turkey_preprocess_serie_list.copy()\n",
    "for i in range(2):  # Loop over the first two series\n",
    "    detrended_array = signal.detrend(interpolated_turkey_preprocess_serie_list[i].values)\n",
    "    turkey_detrended_series_list[i] = pd.Series(detrended_array, \n",
    "                                                index=interpolated_turkey_preprocess_serie_list[i].index, \n",
    "                                                name=interpolated_turkey_preprocess_serie_list[i].name)\n",
    "\n",
    "turkey_gdp_detrended = turkey_detrended_series_list[0]\n",
    "turkey_gdp_detrended.plot(figsize=(10, 3),style='o-',title= turkey_gdp_detrended.name,)"
   ]
  },
  {
   "cell_type": "code",
   "execution_count": null,
   "metadata": {},
   "outputs": [],
   "source": [
    "turkey_co2_detrended = turkey_detrended_series_list[1]\n",
    "turkey_co2_detrended.plot(figsize=(10, 3),style='o-',title= turkey_co2_detrended.name)"
   ]
  },
  {
   "cell_type": "code",
   "execution_count": null,
   "metadata": {},
   "outputs": [],
   "source": [
    "turkey_fulltransform_series_list = [onlyscale(serie) for serie in turkey_detrended_series_list]\n",
    "#note that it's spline interpolated with order of 2\n",
    "turkey_final_df = pd.concat(turkey_fulltransform_series_list, axis=1)\n",
    "display(turkey_final_df)\n",
    "turkey_final_df.plot(figsize=(18, 5),style='o-')"
   ]
  },
  {
   "cell_type": "code",
   "execution_count": null,
   "metadata": {},
   "outputs": [],
   "source": []
  }
 ],
 "metadata": {
  "kernelspec": {
   "display_name": "Python 3",
   "language": "python",
   "name": "python3"
  },
  "language_info": {
   "codemirror_mode": {
    "name": "ipython",
    "version": 3
   },
   "file_extension": ".py",
   "mimetype": "text/x-python",
   "name": "python",
   "nbconvert_exporter": "python",
   "pygments_lexer": "ipython3",
   "version": "3.12.2"
  }
 },
 "nbformat": 4,
 "nbformat_minor": 2
}
